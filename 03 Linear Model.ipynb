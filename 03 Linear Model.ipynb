{
 "cells": [
  {
   "cell_type": "markdown",
   "metadata": {},
   "source": [
    "# Linear Model MCMC\n",
    "Part of the Bayesian neural networks via MCMC: a Python-based tutorial\n",
    "\n",
    "This section of the tutorial covers the development of an MCMC algorithm applied to a simple linear model."
   ]
  },
  {
   "cell_type": "markdown",
   "metadata": {},
   "source": [
    "### Imports"
   ]
  },
  {
   "cell_type": "code",
   "execution_count": 1,
   "metadata": {},
   "outputs": [
    {
     "name": "stdout",
     "output_type": "stream",
     "text": [
      "Automatic pdb calling has been turned ON\n"
     ]
    }
   ],
   "source": [
    "%pdb 1\n",
    "%load_ext autoreload\n",
    "%autoreload 2"
   ]
  },
  {
   "cell_type": "code",
   "execution_count": 2,
   "metadata": {},
   "outputs": [],
   "source": [
    "import numpy as np\n",
    "import pandas as pd\n",
    "from scipy.stats import binom, uniform\n",
    "from ipywidgets import interact, fixed, widgets\n",
    "# visulisation function\n",
    "from functions.visualisations import histogram_trace, plot_linear_data"
   ]
  },
  {
   "cell_type": "markdown",
   "metadata": {},
   "source": [
    "## Define a class with the functions and attributes required for a linear model\n",
    "\n",
    "- `predict`: Function to output y given the input data and model parameters - $y = b + w x$\n",
    "- `evaluate_proposal`: Outer function to evaluate a given proposal distribution using predict"
   ]
  },
  {
   "cell_type": "code",
   "execution_count": 3,
   "metadata": {},
   "outputs": [],
   "source": [
    "class LinearModel:\n",
    "    '''\n",
    "    Simple linear model with a single output (y) given the covariates x_0...x_n of the form:\n",
    "    y = w_0 * x_0 + w_1 * x_1 + ... + w_n * x_n + b\n",
    "    where n = num_features, w are the weights, and b is the bias.\n",
    "    '''\n",
    "    def __init__(self):\n",
    "        # Initial values of model parameters\n",
    "        self.w = None\n",
    "        self.b = None \n",
    "\n",
    "    # Function to take in data and parameter sample and return the prediction\n",
    "    def evaluate_proposal(self, data, w):  # BP with SGD (Stocastic BP)\n",
    "        '''\n",
    "        Use the model to predict and then evaluate the proposal\n",
    "        Input:\n",
    "            data: (N x num_features) array of data\n",
    "            w: (num_features + 1) vector of parameters. \n",
    "                The last element of w consitutes the bias term (giving num_fearures + 1 elements)\n",
    "        '''\n",
    "        self.encode(w)  # method to encode w and b\n",
    "        fx = np.zeros(data.shape[0]) \n",
    "\n",
    "        # for s in range(0, data.shape[0]):  \n",
    "        #     i = s #random.randint(0, data.shape[0]-1)  (we dont shuffle in this implementation)\n",
    "        #     input_instance  =  data[i,0:self.num_features]  \n",
    "        #     actual  = data[i,self.num_features:]  \n",
    "        prediction = self.predict(data)  \n",
    "        return prediction\n",
    "\n",
    "    # Linear model prediction\n",
    "    def predict(self, x_vec): \n",
    "        y_out = x_vec.dot(self.w) + self.b \n",
    "        return y_out\n",
    "    \n",
    "    # Helper functions\n",
    "    def encode(self, theta):\n",
    "        # helper function to split the parameter vector into w and b\n",
    "        self.w =  theta[0:-1]\n",
    "        self.b = theta[-1] "
   ]
  },
  {
   "cell_type": "markdown",
   "metadata": {},
   "source": [
    "## Define a class for the MCMC sampling\n",
    "\n",
    "$y=f\\left(x,\\theta\\right)+e, e ~N\\left(0,\\tau^2\\right)$"
   ]
  },
  {
   "cell_type": "code",
   "execution_count": 4,
   "metadata": {},
   "outputs": [],
   "source": [
    "class MCMC:\n",
    "    def __init__(self, n_samples, n_burnin, x_data, y_data):\n",
    "        self.n_samples = n_samples # number of MCMC samples\n",
    "        self.n_burnin = n_burnin # number of burn-in samples\n",
    "        self.x_data = x_data # (N x num_features)\n",
    "        self.y_data = y_data # (N x 1)\n",
    "        self.theta_size = x_data.shape[1] + 1 # weights for each feature and a bias term\n",
    "\n",
    "        # MCMC parameters - defines how much variation you need in changes to theta, tau\n",
    "        self.step_theta = 0.02;  \n",
    "        self.step_eta = 0.01; # note eta is used as tau in the sampler to consider log scale.  \n",
    "\n",
    "        # initisalise the linear model class\n",
    "        self.model = LinearModel()\n",
    "\n",
    "        # store output\n",
    "        self.pos_theta = None\n",
    "        self.pos_tau = None\n",
    "        self.rmse_data = None\n",
    "\n",
    "    # Define the likelihood function\n",
    "    def likelihood_function(self, theta, tausq):\n",
    "        fx = self.model.evaluate_proposal(self.x_data, theta) \n",
    "        accuracy = self.rmse(fx, self.y_data) #RMSE \n",
    "        loss = -0.5 * np.log(2 * np.pi * tausq) - 0.5 * np.square(self.y_data - fx) / tausq\n",
    "        return [np.sum(loss), fx, accuracy] \n",
    "\n",
    "    # Define the prior\n",
    "    def prior_likelihood(self, sigma_squared, nu_1, nu_2, theta, tausq): \n",
    "        n_params = self.theta_size # number of parameters in model\n",
    "        part1 = -1 * (n_params / 2) * np.log(sigma_squared)\n",
    "        part2 = 1 / (2 * sigma_squared) * (sum(np.square(theta)))\n",
    "        log_loss = part1 - part2 - (1 + nu_1) * np.log(tausq) - (nu_2 / tausq)\n",
    "        return log_loss\n",
    "\n",
    "    # Additional error metric\n",
    "    def rmse(self, predictions, targets):\n",
    "        return np.sqrt(((predictions - targets) ** 2).mean())\n",
    "\n",
    "    # MCMC sampler\n",
    "    def sampler(self):\n",
    "        '''\n",
    "        Run the sampler for a defined linear model\n",
    "        '''\n",
    "        # define empty arrays to store the sampled posterior values\n",
    "        # posterior of all weights and bias over all samples\n",
    "        pos_theta = np.ones((self.n_samples, self.theta_size)) \n",
    "        # posterior defining the variance of the noise in predictions\n",
    "        pos_tau = np.ones((self.n_samples, 1))\n",
    "\n",
    "        # record output f(x) over all samples\n",
    "        pred_y = np.ones((self.n_samples, self.x_data.shape[0]))\n",
    "        # record the RMSE of each sample\n",
    "        rmse_data = np.zeros(self.n_samples)\n",
    "\n",
    "        ## Initialisation\n",
    "        # initialise theta\n",
    "        theta = np.random.randn(self.theta_size)\n",
    "        # make initial prediction\n",
    "        pred_y[0,] = self.model.evaluate_proposal(self.x_data, theta)\n",
    "\n",
    "        # initialise eta\n",
    "        eta = np.log(np.var(pred_y[0,] - self.y_data))\n",
    "        tau_proposal = np.exp(eta)\n",
    "\n",
    "        # XX\n",
    "        sigma_squared = 5  # considered by looking at distribution of  similar trained  models - i.e distribution of weights and bias\n",
    "        nu_1 = 0\n",
    "        nu_2 = 0\n",
    "\n",
    "        # calculate the prior likelihood\n",
    "        prior_likelihood = self.prior_likelihood(sigma_squared, nu_1, nu_2, theta, tau_proposal)\n",
    "        # calculate the likelihood considering observations\n",
    "        [likelihood, pred_y[0,], rmse_data[0]] = self.likelihood_function(theta, tau_proposal)\n",
    "\n",
    "        n_accept = 0  \n",
    "        # Run the MCMC sample for n_samples\n",
    "        for ii in np.arange(1,self.n_samples):\n",
    "            # Sample new values for theta and tau\n",
    "            theta_proposal = theta + np.random.normal(0, self.step_theta, self.theta_size)\n",
    "            eta_proposal = eta + np.random.normal(0, self.step_eta, 1)\n",
    "            tau_proposal = np.exp(eta_proposal)   \n",
    "\n",
    "            # calculate the prior likelihood\n",
    "            prior_proposal = self.prior_likelihood(\n",
    "                sigma_squared, nu_1, nu_2, theta_proposal, tau_proposal\n",
    "            )  # takes care of the gradients\n",
    "            # calculate the likelihood considering observations\n",
    "            [likelihood_proposal, pred_y[ii,], rmse_data[ii]] = self.likelihood_function(\n",
    "                theta_proposal, tau_proposal\n",
    "            )\n",
    "\n",
    "            # since we using log scale: based on https://www.rapidtables.com/math/algebra/Logarithm.html\n",
    "            diff_likelihood = likelihood_proposal - likelihood\n",
    "            diff_priorlikelihood = prior_proposal - prior_likelihood\n",
    "\n",
    "            mh_prob = min(1, np.exp(diff_likelihood + diff_priorlikelihood))\n",
    "\n",
    "            u = np.random.uniform(0, 1)\n",
    "\n",
    "            if u < mh_prob:\n",
    "                # Update position\n",
    "                #print    (i, ' is accepted sample')\n",
    "                n_accept += 1\n",
    "                # update\n",
    "                likelihood = likelihood_proposal\n",
    "                prior_likelihood = prior_proposal\n",
    "                theta = theta_proposal\n",
    "                eta = eta_proposal\n",
    "                # print (likelihood, prior_likelihood, rmsetrain, rmsetest, w, 'accepted')\n",
    "                # and store\n",
    "                pos_theta[ii,] = theta_proposal\n",
    "                pos_tau[ii,] = tau_proposal\n",
    "            else:\n",
    "                # store\n",
    "                pos_theta[ii,] = pos_theta[ii-1,]\n",
    "                pos_tau[ii,] = pos_tau[ii-1,]\n",
    "\n",
    "         \n",
    "        accept_ratio = (n_accept / self.n_samples) * 100\n",
    "\n",
    "        print(accept_ratio, '% was accepted')\n",
    "\n",
    "        self.pos_theta = pos_theta[self.n_burnin:, ]\n",
    "        self.pos_tau = pos_tau[self.n_burnin:, ] \n",
    "        self.rmse_data = rmse_data[self.n_burnin:]\n",
    "\n",
    "        results_dict = {'w{}'.format(_): self.pos_theta[:, _].squeeze() for _ in range(self.theta_size-1)}\n",
    "        results_dict['b'] = self.pos_theta[:, -1].squeeze()\n",
    "        results_dict['tau'] = self.pos_tau.squeeze()\n",
    "        results_dict['rmse'] = self.rmse_data.squeeze()\n",
    "        \n",
    "        # return (pos_w, pos_tau, fxtrain_samples, fxtest_samples, rmse_train, rmse_test, accept_ratio)\n",
    "        results_df = pd.DataFrame.from_dict(\n",
    "            results_dict\n",
    "        )\n",
    "        return results_df\n",
    "\n",
    "    def model_draws(self, num_draws = 10, verbose=False):\n",
    "        # let us next test the Bayesian model using the posterior distributions over n trials\n",
    "        accuracy = np.zeros(num_draws)\n",
    "        rmse_data = np.zeros(num_draws) \n",
    "        pred_y = np.zeros((num_draws, self.x_data.shape[0]))\n",
    "\n",
    "        for ii in range(num_draws):\n",
    "            theta_drawn = np.random.normal(self.pos_theta.mean(axis=0), self.pos_theta.std(axis=0), self.theta_size)\n",
    "            tausq_drawn = np.random.normal(self.pos_tau.mean(), self.pos_tau.std())\n",
    "\n",
    "            [likelihood_proposal, pred_y[ii,], rmse_data[ii]] = self.likelihood_function(\n",
    "                theta_drawn, tausq_drawn\n",
    "            )\n",
    "            if verbose:\n",
    "                print(\n",
    "                    'Draw {} - RMSE: {:.3f}. Theta: {}, Tau {}'.format(\n",
    "                        ii, rmse_data[ii], theta_drawn, tausq_drawn\n",
    "                    )\n",
    "                )\n",
    "        return pred_y"
   ]
  },
  {
   "cell_type": "markdown",
   "metadata": {},
   "source": [
    "## Sample using MCMC\n",
    "\n",
    "- Create the MCMC loop and sample the posterior distribution"
   ]
  },
  {
   "cell_type": "code",
   "execution_count": 5,
   "metadata": {},
   "outputs": [
    {
     "name": "stdout",
     "output_type": "stream",
     "text": [
      "83.545 % was accepted\n"
     ]
    }
   ],
   "source": [
    "## MCMC Settings and Setup\n",
    "n_samples = 20000 # number of samples to draw from the posterior\n",
    "burn_in = int(n_samples* 0.25) # number of samples to discard before recording draws from the posterior\n",
    "\n",
    "# Generate toy data\n",
    "n_data = 100\n",
    "n_features = 1\n",
    "x_data = np.repeat(np.expand_dims(np.linspace(0, 1, n_data),axis=-1),n_features,axis=1)\n",
    "y_data = 3 * x_data[:,0] + 4 + np.random.randn(n_data) * 0.5\n",
    "\n",
    "# Initialise the MCMC class\n",
    "mcmc = MCMC(n_samples, burn_in, x_data, y_data)\n",
    "# Run the sampler\n",
    "results = mcmc.sampler()\n",
    "# Draw sample models from the posterior\n",
    "pred_y = mcmc.model_draws(100)"
   ]
  },
  {
   "cell_type": "markdown",
   "metadata": {},
   "source": [
    "## Analyse the results\n",
    "Plot the data with the mean linear fit and some uncertainty.\n",
    "\n",
    "Plot the posterior distribution and trace for each parameter using ipywidgets."
   ]
  },
  {
   "cell_type": "code",
   "execution_count": 6,
   "metadata": {},
   "outputs": [
    {
     "data": {
      "image/png": "[encoded data removed]",
      "text/plain": [
       "<Figure size 504x360 with 1 Axes>"
      ]
     },
     "metadata": {},
     "output_type": "display_data"
    }
   ],
   "source": [
    "# plot the data with the model predictions from posterior draws\n",
    "plot_linear_data(\n",
    "    x_data, y_data,\n",
    "    y_modelled=pred_y\n",
    ")"
   ]
  },
  {
   "cell_type": "code",
   "execution_count": 7,
   "metadata": {},
   "outputs": [
    {
     "data": {
      "application/vnd.jupyter.widget-view+json": {
       "model_id": "f2f8691329014e35bce91ab90aab52ed",
       "version_major": 2,
       "version_minor": 0
      },
      "text/plain": [
       "interactive(children=(Dropdown(description='Parameter:', options=('w0', 'b', 'tau', 'rmse'), value='w0'), Outp…"
      ]
     },
     "metadata": {},
     "output_type": "display_data"
    },
    {
     "data": {
      "text/plain": [
       "<function __main__.plot_hist(results, param_name)>"
      ]
     },
     "execution_count": 7,
     "metadata": {},
     "output_type": "execute_result"
    }
   ],
   "source": [
    "def plot_hist(results, param_name):\n",
    "    # results = results_rmse\n",
    "    posterior_mean = results[param_name].mean()\n",
    "    print('{:.3f} mean value of posterior'.format(posterior_mean))\n",
    "    histogram_trace(results[param_name].values)\n",
    "\n",
    "# use ipywidgets to get a \"gui\" dropdown to view all the parameters\n",
    "interact(\n",
    "    plot_hist, \n",
    "    results=fixed(results), \n",
    "    param_name=widgets.Dropdown(\n",
    "        options=results.columns,\n",
    "        value='w0',\n",
    "        description='Parameter:',\n",
    "    )\n",
    ")"
   ]
  },
  {
   "cell_type": "code",
   "execution_count": null,
   "metadata": {},
   "outputs": [],
   "source": []
  },
  {
   "cell_type": "code",
   "execution_count": null,
   "metadata": {},
   "outputs": [],
   "source": []
  }
 ],
 "metadata": {
  "kernelspec": {
   "display_name": "Python 3.9.12 ('base')",
   "language": "python",
   "name": "python3"
  },
  "language_info": {
   "codemirror_mode": {
    "name": "ipython",
    "version": 3
   },
   "file_extension": ".py",
   "mimetype": "text/x-python",
   "name": "python",
   "nbconvert_exporter": "python",
   "pygments_lexer": "ipython3",
   "version": "3.9.12"
  },
  "orig_nbformat": 4,
  "vscode": {
   "interpreter": {
    "hash": "87fbea7b3721842a93ed4da8a1ac4b18f42b1eaaedefc3a2702202c09bf233e1"
   }
  }
 },
 "nbformat": 4,
 "nbformat_minor": 2
}
