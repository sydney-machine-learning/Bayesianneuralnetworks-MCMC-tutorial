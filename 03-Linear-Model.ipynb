{
 "cells": [
  {
   "cell_type": "markdown",
   "metadata": {},
   "source": [
    "# Linear Model MCMC\n",
    "Part of the Bayesian neural networks via MCMC: a Python-based tutorial\n",
    "\n",
    "This section of the tutorial covers the development of an MCMC algorithm applied to a simple linear model."
   ]
  },
  {
   "cell_type": "markdown",
   "metadata": {},
   "source": [
    "### Imports"
   ]
  },
  {
   "cell_type": "code",
   "execution_count": 1,
   "metadata": {},
   "outputs": [],
   "source": [
    "%load_ext autoreload\n",
    "%autoreload 2"
   ]
  },
  {
   "cell_type": "code",
   "execution_count": 2,
   "metadata": {},
   "outputs": [],
   "source": [
    "import numpy as np\n",
    "import pandas as pd\n",
    "from scipy.stats import binom, uniform\n",
    "from ipywidgets import interact, fixed, widgets\n",
    "# visulisation function\n",
    "from functions.visualisations import histogram_trace, plot_linear_data\n",
    "\n",
    "from types import MethodType"
   ]
  },
  {
   "cell_type": "markdown",
   "metadata": {},
   "source": [
    "## Define a class with the functions and attributes required for a linear model\n",
    "\n",
    "- `predict`: Function to output y given the input data and model parameters - $y = w x + b$\n",
    "- `evaluate_proposal`: Function to load a given proposal distribution ($\\theta$) and return the model prediction\n",
    "- `encode`: Helper function to encode the model parameters ($\\theta$) into the model as $w$ and $b$"
   ]
  },
  {
   "cell_type": "code",
   "execution_count": 3,
   "metadata": {},
   "outputs": [],
   "source": [
    "class LinearModel:\n",
    "    '''\n",
    "    Simple linear model with a single output (y) given the covariates x_1...x_M of the form:\n",
    "    y = w_1 * x_1 + ... + w_M * x_M + b\n",
    "    where M = number of features, w are the weights, and b is the bias.\n",
    "    '''\n",
    "    # Initialise values of model parameters\n",
    "    def __init__(self):\n",
    "        self.w = None\n",
    "        self.b = None \n",
    "\n",
    "    # Function to take in data and parameter sample and return the prediction\n",
    "    def evaluate_proposal(self, data, theta):\n",
    "        '''\n",
    "        Encode the proposed parameters and then use the model to predict\n",
    "        Input:\n",
    "            data: (N x M) array of data\n",
    "            theta: (M + 1) vector of parameters. The last element of theta consitutes the bias term (giving M + 1 elements)\n",
    "        '''\n",
    "        self.encode(theta)  # method to encode w and b\n",
    "        prediction = self.predict(data) # predict and return\n",
    "        return prediction\n",
    "\n",
    "    # Linear model prediction\n",
    "    def predict(self, x_in):\n",
    "        y_out = x_in.dot(self.w) + self.b \n",
    "        return y_out\n",
    "    \n",
    "    # Helper function to split the parameter vector into w and band store in the model\n",
    "    def encode(self, theta):\n",
    "        self.w =  theta[0:-1]\n",
    "        self.b = theta[-1] "
   ]
  },
  {
   "cell_type": "markdown",
   "metadata": {},
   "source": [
    "## Define a class for the MCMC sampling\n",
    "\n",
    "$y=f\\left(x,\\theta\\right)+e \\qquad e \\sim N\\left(0,\\tau^2\\right)$"
   ]
  },
  {
   "cell_type": "markdown",
   "metadata": {},
   "source": [
    "First we will define the likelihood and prior functions"
   ]
  },
  {
   "cell_type": "code",
   "execution_count": 4,
   "metadata": {},
   "outputs": [],
   "source": [
    "# Define the likelihood function\n",
    "def likelihood_function(self, theta, tausq):\n",
    "    '''\n",
    "    Calculate the likelihood of the data given the parameters\n",
    "    Input:\n",
    "        theta: (M + 1) vector of parameters. The last element of theta consitutes the bias term (giving M + 1 elements)\n",
    "        tausq: variance of the error term\n",
    "    Output:\n",
    "        log_likelihood: log likelihood of the data given the parameters\n",
    "        model_prediction: prediction of the model given the parameters\n",
    "        accuracy: accuracy (RMSE) of the model given the parameters\n",
    "    '''\n",
    "    # first make a prediction with parameters theta\n",
    "    model_prediction = self.model.evaluate_proposal(self.x_data, theta)\n",
    "    model_simulation = model_prediction + np.random.normal(0,tausq,size=model_prediction.shape) \n",
    "    accuracy = self.rmse(model_prediction, self.y_data) #RMSE error metric \n",
    "    # now calculate the log likelihood\n",
    "    log_likelihood = np.sum(-0.5 * np.log(2 * np.pi * tausq) - 0.5 * np.square(self.y_data - model_prediction) / tausq)\n",
    "    return [log_likelihood, model_prediction, model_simulation, accuracy] \n",
    "\n",
    "# Define the prior\n",
    "def prior_likelihood(self, sigma_squared, nu_1, nu_2, theta, tausq): \n",
    "    '''\n",
    "    Calculate the prior likelihood of the parameters\n",
    "    Input:\n",
    "        sigma_squared: variance of normal prior for theta\n",
    "        nu_1: parameter nu_1 of the inverse gamma prior for tau^2\n",
    "        nu_2: parameter nu_2 of the inverse gamma prior for tau^2\n",
    "        theta: (M + 1) vector of parameters. The last element of theta consitutes the bias term (giving M + 1 elements)\n",
    "        tausq: variance of the error term\n",
    "    Output:\n",
    "        log_prior: log prior likelihood\n",
    "    '''\n",
    "    n_params = self.theta_size # number of parameters in model\n",
    "    part1 = -1 * (n_params / 2) * np.log(sigma_squared)\n",
    "    part2 = 1 / (2 * sigma_squared) * (sum(np.square(theta)))\n",
    "    log_prior = part1 - part2 - (1 + nu_1) * np.log(tausq) - (nu_2 / tausq)\n",
    "    return log_prior"
   ]
  },
  {
   "cell_type": "markdown",
   "metadata": {},
   "source": [
    "Next define the MCMC sampler"
   ]
  },
  {
   "cell_type": "code",
   "execution_count": 5,
   "metadata": {},
   "outputs": [],
   "source": [
    "# MCMC sampler\n",
    "def sampler(self):\n",
    "    '''\n",
    "    Run the sampler for a defined linear model\n",
    "    '''\n",
    "    ## Define empty arrays to store the sampled posterior values\n",
    "    # posterior of all weights and bias over all samples\n",
    "    pos_theta = np.ones((self.n_samples, self.theta_size)) \n",
    "    # posterior defining the variance of the noise in predictions\n",
    "    pos_tau = np.ones((self.n_samples, 1))\n",
    "\n",
    "    # record output f(x) over all samples\n",
    "    pred_y = np.ones((self.n_samples, self.x_data.shape[0]))\n",
    "    # record the RMSE of each sample\n",
    "    rmse_data = np.zeros(self.n_samples)\n",
    "\n",
    "    ## Initialisation\n",
    "    # initialise theta - the model parameters\n",
    "    theta = np.random.randn(self.theta_size)\n",
    "    # make initial prediction\n",
    "    pred_y[0,] = self.model.evaluate_proposal(self.x_data, theta)\n",
    "\n",
    "    # initialise eta - we sample eta as a gaussian random walk in the log space of tau^2\n",
    "    eta = np.log(np.var(pred_y[0,] - self.y_data))\n",
    "    tausq_proposal = np.exp(eta)\n",
    "\n",
    "    # calculate the prior likelihood\n",
    "    prior_likelihood = self.prior_likelihood(self.sigma_squared, self.nu_1, self.nu_2, theta, tausq_proposal)\n",
    "    # calculate the likelihood considering observations\n",
    "    [likelihood, pred_y[0,], _, rmse_data[0]] = self.likelihood_function(theta, tausq_proposal)\n",
    "\n",
    "    n_accept = 0  \n",
    "    ## Run the MCMC sample for n_samples\n",
    "    for ii in np.arange(1,self.n_samples):\n",
    "        # Sample new values for theta and tau using a Gaussian random walk\n",
    "        theta_proposal = theta + np.random.normal(0, self.step_theta, self.theta_size)\n",
    "        eta_proposal = eta + np.random.normal(0, self.step_eta, 1) # sample tau^2 in log space\n",
    "        tausq_proposal = np.exp(eta_proposal)   \n",
    "\n",
    "        # calculate the prior likelihood\n",
    "        prior_proposal = self.prior_likelihood(\n",
    "            self.sigma_squared, self.nu_1, self.nu_2, theta_proposal, tausq_proposal\n",
    "        )\n",
    "        # calculate the likelihood considering observations\n",
    "        [likelihood_proposal, pred_y[ii,], _, rmse_data[ii]] = self.likelihood_function(\n",
    "            theta_proposal, tausq_proposal\n",
    "        )\n",
    "\n",
    "        # Noting that likelihood_function and prior_likelihood return log likelihoods,\n",
    "        # we can use log laws to calculate the acceptance probability\n",
    "        diff_likelihood = likelihood_proposal - likelihood\n",
    "        diff_priorlikelihood = prior_proposal - prior_likelihood\n",
    "\n",
    "        mh_prob = min(1, np.exp(diff_likelihood + diff_priorlikelihood))\n",
    "\n",
    "        # sample to accept or reject the proposal according to the acceptance probability\n",
    "        u = np.random.uniform(0, 1)\n",
    "        if u < mh_prob:\n",
    "            # accept and update the values\n",
    "            n_accept += 1\n",
    "            likelihood = likelihood_proposal\n",
    "            prior_likelihood = prior_proposal\n",
    "            theta = theta_proposal\n",
    "            eta = eta_proposal\n",
    "            # store to make up the posterior\n",
    "            pos_theta[ii,] = theta_proposal\n",
    "            pos_tau[ii,] = tausq_proposal\n",
    "        else:\n",
    "            # reject move and store the old values\n",
    "            pos_theta[ii,] = pos_theta[ii-1,]\n",
    "            pos_tau[ii,] = pos_tau[ii-1,]\n",
    "\n",
    "    # calculate the acceptance rate as a check\n",
    "    accept_rate = (n_accept / self.n_samples) * 100\n",
    "    print('{:.3f}% were accepted'.format(accept_rate))\n",
    "\n",
    "    # store the posterior (samples after burn in) in a pandas dataframe and return\n",
    "    self.pos_theta = pos_theta[self.n_burnin:, ]\n",
    "    self.pos_tau = pos_tau[self.n_burnin:, ] \n",
    "    self.rmse_data = rmse_data[self.n_burnin:]\n",
    "\n",
    "    # split theta into w and b\n",
    "    results_dict = {'w{}'.format(_): self.pos_theta[:, _].squeeze() for _ in range(self.theta_size-1)}\n",
    "    results_dict['b'] = self.pos_theta[:, -1].squeeze()\n",
    "    results_dict['tau'] = self.pos_tau.squeeze()\n",
    "    results_dict['rmse'] = self.rmse_data.squeeze()\n",
    "\n",
    "    results_df = pd.DataFrame.from_dict(\n",
    "        results_dict\n",
    "    )\n",
    "    return results_df"
   ]
  },
  {
   "cell_type": "markdown",
   "metadata": {},
   "source": [
    "Define a function to generate random draws from the posterior distributions"
   ]
  },
  {
   "cell_type": "markdown",
   "metadata": {},
   "source": [
    "Finally combine these elements into a MCMC sampling function"
   ]
  },
  {
   "cell_type": "code",
   "execution_count": 6,
   "metadata": {},
   "outputs": [],
   "source": [
    "class MCMC:\n",
    "    def __init__(self, n_samples, n_burnin, x_data, y_data):\n",
    "        self.n_samples = n_samples # number of MCMC samples\n",
    "        self.n_burnin = n_burnin # number of burn-in samples\n",
    "        self.x_data = x_data # (N x M)\n",
    "        self.y_data = y_data # (N x 1)\n",
    "        self.theta_size = x_data.shape[1] + 1 # weights for each feature and a bias term (M+1)\n",
    "\n",
    "        # MCMC parameters - defines the variance term in our Gaussian random walk\n",
    "        self.step_theta = 0.02;  \n",
    "        self.step_eta = 0.01; # note eta is used as tau in the sampler to consider log scale.  \n",
    "        \n",
    "        # model hyperparameters\n",
    "        # considered by looking at distribution of  similar trained  models - i.e distribution of weights and bias\n",
    "        self.sigma_squared = 5\n",
    "        self.nu_1 = 0\n",
    "        self.nu_2 = 0\n",
    "\n",
    "        # initisalise the linear model class\n",
    "        self.model = LinearModel()\n",
    "\n",
    "        # store output\n",
    "        self.pos_theta = None\n",
    "        self.pos_tau = None\n",
    "        self.rmse_data = None\n",
    "\n",
    "        # functions defined above - this is poor practice, but done for readability \n",
    "        # and clarity\n",
    "        self.likelihood_function = MethodType(likelihood_function, self)\n",
    "        self.prior_likelihood = MethodType(prior_likelihood, self)\n",
    "        self.sampler = MethodType(sampler, self)\n",
    "\n",
    "    def model_draws(self, num_samples = 10):\n",
    "        '''\n",
    "        Simulate new model predictions (mu) under the assumption that our posteriors are \n",
    "        Gaussian.\n",
    "        '''\n",
    "        # num_samples x num_data_points\n",
    "        pred_y = np.zeros((num_samples,self.x_data.shape[0]))\n",
    "        sim_y = np.zeros((num_samples,self.x_data.shape[0]))\n",
    "\n",
    "        for ii in range(num_samples):\n",
    "            theta_drawn = np.random.normal(self.pos_theta.mean(axis=0), self.pos_theta.std(axis=0), self.theta_size)\n",
    "            tausq_drawn = np.random.normal(self.pos_tau.mean(), self.pos_tau.std())\n",
    "\n",
    "            [_, pred_y[ii,:], sim_y[ii,:],_] = self.likelihood_function(\n",
    "                theta_drawn, tausq_drawn\n",
    "            )\n",
    "        return pred_y, sim_y\n",
    "\n",
    "    # Additional error metric\n",
    "    def rmse(self, predictions, targets):\n",
    "        return np.sqrt(((predictions - targets) ** 2).mean())"
   ]
  },
  {
   "cell_type": "markdown",
   "metadata": {},
   "source": [
    "## Sample using MCMC\n",
    "\n",
    "- Create the MCMC loop and sample the posterior distribution"
   ]
  },
  {
   "cell_type": "code",
   "execution_count": 7,
   "metadata": {},
   "outputs": [
    {
     "name": "stdout",
     "output_type": "stream",
     "text": [
      "82.825% were accepted\n"
     ]
    }
   ],
   "source": [
    "## MCMC Settings and Setup\n",
    "n_samples = 20000 # number of samples to draw from the posterior\n",
    "burn_in = int(n_samples* 0.25) # number of samples to discard before recording draws from the posterior\n",
    "\n",
    "# Generate toy data\n",
    "n_data = 100\n",
    "n_features = 1\n",
    "x_data = np.repeat(np.expand_dims(np.linspace(0, 1, n_data),axis=-1),n_features,axis=1)\n",
    "y_data = 3 * x_data[:,0] + 4 + np.random.randn(n_data) * 0.5\n",
    "\n",
    "# Initialise the MCMC class\n",
    "mcmc = MCMC(n_samples, burn_in, x_data, y_data)\n",
    "# Run the sampler\n",
    "results = mcmc.sampler()\n",
    "# Draw sample models from the posterior\n",
    "pred_y, sim_y = mcmc.model_draws(num_samples=100)"
   ]
  },
  {
   "cell_type": "markdown",
   "metadata": {},
   "source": [
    "## Analyse the results\n",
    "Plot the data with the mean linear fit and some uncertainty.\n",
    "\n",
    "Plot the posterior distribution and trace for each parameter using ipywidgets."
   ]
  },
  {
   "cell_type": "code",
   "execution_count": 8,
   "metadata": {},
   "outputs": [
    {
     "data": {
      "image/png": "[encoded data removed]",
      "text/plain": [
       "<Figure size 504x360 with 1 Axes>"
      ]
     },
     "metadata": {},
     "output_type": "display_data"
    }
   ],
   "source": [
    "# plot the data with the model predictions from posterior draws\n",
    "plot_linear_data(\n",
    "    x_data, y_data,\n",
    "    y_modelled=pred_y,\n",
    "    y_simulated=sim_y,\n",
    ")"
   ]
  },
  {
   "cell_type": "code",
   "execution_count": 9,
   "metadata": {},
   "outputs": [
    {
     "data": {
      "application/vnd.jupyter.widget-view+json": {
       "model_id": "cb941f854f07468caf9393ee1c032518",
       "version_major": 2,
       "version_minor": 0
      },
      "text/plain": [
       "interactive(children=(Dropdown(description='Parameter:', options=('w0', 'b', 'tau', 'rmse'), value='w0'), Outp…"
      ]
     },
     "metadata": {},
     "output_type": "display_data"
    }
   ],
   "source": [
    "def plot_hist(results, param_name):\n",
    "    # results = results_rmse\n",
    "    posterior_mean = results[param_name].mean()\n",
    "    print('{:.3f} mean value of posterior'.format(posterior_mean))\n",
    "    histogram_trace(results[param_name].values)\n",
    "\n",
    "# use ipywidgets to get a \"gui\" dropdown to view all the parameters\n",
    "interact(\n",
    "    plot_hist, \n",
    "    results=fixed(results), \n",
    "    param_name=widgets.Dropdown(\n",
    "        options=results.columns,\n",
    "        value='w0',\n",
    "        description='Parameter:',\n",
    "    )\n",
    ")\n",
    "None"
   ]
  },
  {
   "cell_type": "code",
   "execution_count": null,
   "metadata": {},
   "outputs": [],
   "source": []
  },
  {
   "cell_type": "code",
   "execution_count": null,
   "metadata": {},
   "outputs": [],
   "source": []
  }
 ],
 "metadata": {
  "kernelspec": {
   "display_name": "Python 3.9.12 ('base')",
   "language": "python",
   "name": "python3"
  },
  "language_info": {
   "codemirror_mode": {
    "name": "ipython",
    "version": 3
   },
   "file_extension": ".py",
   "mimetype": "text/x-python",
   "name": "python",
   "nbconvert_exporter": "python",
   "pygments_lexer": "ipython3",
   "version": "3.9.12 (main, Apr  5 2022, 06:56:58) \n[GCC 7.5.0]"
  },
  "orig_nbformat": 4,
  "vscode": {
   "interpreter": {
    "hash": "87fbea7b3721842a93ed4da8a1ac4b18f42b1eaaedefc3a2702202c09bf233e1"
   }
  }
 },
 "nbformat": 4,
 "nbformat_minor": 2
}
