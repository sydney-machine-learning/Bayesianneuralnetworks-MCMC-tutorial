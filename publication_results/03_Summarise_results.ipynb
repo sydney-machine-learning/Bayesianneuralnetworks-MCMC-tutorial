{
 "cells": [
  {
   "attachments": {},
   "cell_type": "markdown",
   "metadata": {},
   "source": [
    "# MCMC tutorial publication results and plotting\n",
    "Part of the Bayesian neural networks via MCMC: a Python-based tutorial\n",
    "\n",
    "This notebook contains the code used to generate the results and plots for the paper."
   ]
  },
  {
   "cell_type": "markdown",
   "metadata": {},
   "source": [
    "### Imports"
   ]
  },
  {
   "cell_type": "code",
   "execution_count": 1,
   "metadata": {},
   "outputs": [],
   "source": [
    "%load_ext autoreload\n",
    "%autoreload 2"
   ]
  },
  {
   "cell_type": "code",
   "execution_count": 16,
   "metadata": {},
   "outputs": [],
   "source": [
    "import os\n",
    "import numpy as np\n",
    "import pandas as pd\n",
    "import xarray as xr\n",
    "import glob\n",
    "from ipywidgets import interact, fixed, widgets\n",
    "\n",
    "from publication_results.models.mcmc import MCMC\n",
    "\n",
    "os.chdir('/project')\n"
   ]
  },
  {
   "attachments": {},
   "cell_type": "markdown",
   "metadata": {},
   "source": [
    "## Load the results from the MCMC runs\n",
    "Load in the results stored in the netcdf files."
   ]
  },
  {
   "cell_type": "code",
   "execution_count": 14,
   "metadata": {},
   "outputs": [
    {
     "name": "stdout",
     "output_type": "stream",
     "text": [
      "Found 5 results files for linear model on Sunspot data\n",
      "Found 5 results files for linear model on Abalone data\n",
      "Found 5 results files for linear model on Iris data\n",
      "Found 5 results files for linear model on Ionosphere data\n",
      "Found 5 results files for bnn model on Sunspot data\n",
      "Found 5 results files for bnn model on Abalone data\n",
      "Found 5 results files for bnn model on Iris data\n",
      "Found 5 results files for bnn model on Ionosphere data\n"
     ]
    }
   ],
   "source": [
    "models = ['linear','bnn']\n",
    "data = ['Sunspot', 'Abalone', 'Iris', 'Ionosphere']\n",
    "results_dir = os.path.join('publication_results','results')\n",
    "\n",
    "results = {mm: {dd: None for dd in data} for mm in models}\n",
    "for this_model in models:\n",
    "    mod_results_dir = os.path.join(results_dir,'{}_model'.format(this_model))\n",
    "    for this_data in data:\n",
    "        results_files = glob.glob(os.path.join(mod_results_dir,'mcmc_{}_*.nc'.format(this_data)))\n",
    "        print('Found {} results files for {} model on {} data'.format(len(results_files),this_model,this_data))\n",
    "        tmp_data = xr.open_mfdataset(results_files, combine='nested',concat_dim='chain')\n",
    "        # re-ID the chains\n",
    "        tmp_data.coords['chain'] = np.arange(len(results_files))\n",
    "        results[this_model][this_data] = tmp_data"
   ]
  },
  {
   "cell_type": "code",
   "execution_count": 22,
   "metadata": {},
   "outputs": [],
   "source": [
    "# load the data\n",
    "x_train = {}\n",
    "y_train = {}\n",
    "x_test = {}\n",
    "y_test = {}\n",
    "\n",
    "for this_data in data:\n",
    "    train_data   = np.loadtxt(\"data/{}/train.txt\".format(this_data))\n",
    "    test_data    = np.loadtxt(\"data/{}/test.txt\".format(this_data))\n",
    "\n",
    "    x_train[this_data] = train_data[:,:-1]\n",
    "    y_train[this_data] = train_data[:,-1]\n",
    "    x_test[this_data] = test_data[:,:-1]\n",
    "    y_test[this_data] = test_data[:,-1]\n",
    "\n",
    "# little lookup table\n",
    "data_case = {'Sunspot':'regression','Abalone':'regression','Iris':'classification','Ionosphere':'classification'}"
   ]
  },
  {
   "attachments": {},
   "cell_type": "markdown",
   "metadata": {},
   "source": [
    "## Evaluate the model performance\n",
    "Calculate the model performance metrics for the MCMC samples."
   ]
  },
  {
   "cell_type": "code",
   "execution_count": 30,
   "metadata": {},
   "outputs": [
    {
     "data": {
      "text/html": [
       "<div>\n",
       "<style scoped>\n",
       "    .dataframe tbody tr th:only-of-type {\n",
       "        vertical-align: middle;\n",
       "    }\n",
       "\n",
       "    .dataframe tbody tr th {\n",
       "        vertical-align: top;\n",
       "    }\n",
       "\n",
       "    .dataframe thead th {\n",
       "        text-align: right;\n",
       "    }\n",
       "</style>\n",
       "<table border=\"1\" class=\"dataframe\">\n",
       "  <thead>\n",
       "    <tr style=\"text-align: right;\">\n",
       "      <th></th>\n",
       "      <th>train_mean</th>\n",
       "      <th>test_mean</th>\n",
       "      <th>train_std</th>\n",
       "      <th>test_std</th>\n",
       "      <th>model</th>\n",
       "      <th>data</th>\n",
       "    </tr>\n",
       "  </thead>\n",
       "  <tbody>\n",
       "    <tr>\n",
       "      <th>0</th>\n",
       "      <td>0.025536</td>\n",
       "      <td>0.021937</td>\n",
       "      <td>0.013265</td>\n",
       "      <td>0.011644</td>\n",
       "      <td>linear</td>\n",
       "      <td>Sunspot</td>\n",
       "    </tr>\n",
       "    <tr>\n",
       "      <th>1</th>\n",
       "      <td>0.086159</td>\n",
       "      <td>0.086281</td>\n",
       "      <td>0.007322</td>\n",
       "      <td>0.007165</td>\n",
       "      <td>linear</td>\n",
       "      <td>Abalone</td>\n",
       "    </tr>\n",
       "    <tr>\n",
       "      <th>2</th>\n",
       "      <td>89.541917</td>\n",
       "      <td>84.248143</td>\n",
       "      <td>3.681478</td>\n",
       "      <td>6.331859</td>\n",
       "      <td>linear</td>\n",
       "      <td>Iris</td>\n",
       "    </tr>\n",
       "    <tr>\n",
       "      <th>3</th>\n",
       "      <td>88.739853</td>\n",
       "      <td>85.393912</td>\n",
       "      <td>1.455964</td>\n",
       "      <td>2.266621</td>\n",
       "      <td>linear</td>\n",
       "      <td>Ionosphere</td>\n",
       "    </tr>\n",
       "    <tr>\n",
       "      <th>4</th>\n",
       "      <td>0.026671</td>\n",
       "      <td>0.026011</td>\n",
       "      <td>0.004681</td>\n",
       "      <td>0.004635</td>\n",
       "      <td>bnn</td>\n",
       "      <td>Sunspot</td>\n",
       "    </tr>\n",
       "    <tr>\n",
       "      <th>5</th>\n",
       "      <td>0.079517</td>\n",
       "      <td>0.079715</td>\n",
       "      <td>0.001996</td>\n",
       "      <td>0.001845</td>\n",
       "      <td>bnn</td>\n",
       "      <td>Abalone</td>\n",
       "    </tr>\n",
       "    <tr>\n",
       "      <th>6</th>\n",
       "      <td>98.062019</td>\n",
       "      <td>95.426151</td>\n",
       "      <td>0.660752</td>\n",
       "      <td>1.019753</td>\n",
       "      <td>bnn</td>\n",
       "      <td>Iris</td>\n",
       "    </tr>\n",
       "    <tr>\n",
       "      <th>7</th>\n",
       "      <td>99.631869</td>\n",
       "      <td>92.668491</td>\n",
       "      <td>0.356123</td>\n",
       "      <td>1.890454</td>\n",
       "      <td>bnn</td>\n",
       "      <td>Ionosphere</td>\n",
       "    </tr>\n",
       "  </tbody>\n",
       "</table>\n",
       "</div>"
      ],
      "text/plain": [
       "   train_mean  test_mean  train_std  test_std   model        data\n",
       "0    0.025536   0.021937   0.013265  0.011644  linear     Sunspot\n",
       "1    0.086159   0.086281   0.007322  0.007165  linear     Abalone\n",
       "2   89.541917  84.248143   3.681478  6.331859  linear        Iris\n",
       "3   88.739853  85.393912   1.455964  2.266621  linear  Ionosphere\n",
       "4    0.026671   0.026011   0.004681  0.004635     bnn     Sunspot\n",
       "5    0.079517   0.079715   0.001996  0.001845     bnn     Abalone\n",
       "6   98.062019  95.426151   0.660752  1.019753     bnn        Iris\n",
       "7   99.631869  92.668491   0.356123  1.890454     bnn  Ionosphere"
      ]
     },
     "execution_count": 30,
     "metadata": {},
     "output_type": "execute_result"
    }
   ],
   "source": [
    "results_table = []# pd.DataFrame(columns=['train','test','model','data'])\n",
    "for this_model in models:\n",
    "    for this_data in data:\n",
    "        train_dim = results[this_model][this_data].coords['train_idx'].shape[0]\n",
    "        test_dim = results[this_model][this_data].coords['test_idx'].shape[0]\n",
    "        train_pred = results[this_model][this_data].train_pred.values.reshape((-1,train_dim))\n",
    "        test_pred = results[this_model][this_data].test_pred.values.reshape((-1,test_dim))\n",
    "        # Print the train/test RMSE\n",
    "        if data_case[this_data] == 'regression':\n",
    "            train_perf = np.array([MCMC.rmse(None,train_pred[_,:], y_train[this_data]) for _ in np.arange(train_pred.shape[0])])\n",
    "            test_perf = np.array([MCMC.rmse(None,test_pred[_,:], y_test[this_data]) for _ in np.arange(test_pred.shape[0])])\n",
    "            # print('Train RMSE: {:.5f} ({:.5f})'.format(train_perf.mean(),train_perf.std()))\n",
    "            # print('Test RMSE: {:.5f} ({:.5f})'.format(test_perf.mean(),test_perf.std()))  \n",
    "        elif data_case[this_data] == 'classification':\n",
    "            train_perf = np.array([MCMC.accuracy(None,train_pred[_,:], y_train[this_data]) for _ in np.arange(train_pred.shape[0])])\n",
    "            test_perf = np.array([MCMC.accuracy(None,test_pred[_,:], y_test[this_data]) for _ in np.arange(test_pred.shape[0])])\n",
    "            # print('Train Accuracy: {:.5f} ({:.5f})'.format(train_perf.mean(),train_perf.std()))\n",
    "            # print('Test Accuracy: {:.5f} ({:.5f})'.format(test_perf.mean(),test_perf.std()))\n",
    "\n",
    "        results_table.append(\n",
    "            {\n",
    "                'train_mean':train_perf.mean(),'test_mean':test_perf.mean(),\n",
    "                'train_std':train_perf.std(),'test_std':test_perf.std(),\n",
    "                'model':this_model,'data':this_data\n",
    "            }\n",
    "        )\n",
    "results_table = pd.DataFrame(results_table)\n",
    "results_table"
   ]
  },
  {
   "cell_type": "code",
   "execution_count": null,
   "metadata": {},
   "outputs": [],
   "source": []
  }
 ],
 "metadata": {
  "kernelspec": {
   "display_name": "Python 3.9.12 ('base')",
   "language": "python",
   "name": "python3"
  },
  "language_info": {
   "codemirror_mode": {
    "name": "ipython",
    "version": 3
   },
   "file_extension": ".py",
   "mimetype": "text/x-python",
   "name": "python",
   "nbconvert_exporter": "python",
   "pygments_lexer": "ipython3",
   "version": "3.9.7"
  },
  "orig_nbformat": 4,
  "vscode": {
   "interpreter": {
    "hash": "87fbea7b3721842a93ed4da8a1ac4b18f42b1eaaedefc3a2702202c09bf233e1"
   }
  }
 },
 "nbformat": 4,
 "nbformat_minor": 2
}
