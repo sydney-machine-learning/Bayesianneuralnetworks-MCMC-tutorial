{
 "cells": [
  {
   "attachments": {},
   "cell_type": "markdown",
   "metadata": {},
   "source": [
    "# MCMC tutorial publication results and plotting\n",
    "Part of the Bayesian neural networks via MCMC: a Python-based tutorial\n",
    "\n",
    "This notebook contains the code used to generate the results and plots for the paper."
   ]
  },
  {
   "cell_type": "markdown",
   "metadata": {},
   "source": [
    "### Imports"
   ]
  },
  {
   "cell_type": "code",
   "execution_count": null,
   "metadata": {},
   "outputs": [],
   "source": [
    "%load_ext autoreload\n",
    "%autoreload 2"
   ]
  },
  {
   "cell_type": "code",
   "execution_count": null,
   "metadata": {},
   "outputs": [],
   "source": [
    "import os\n",
    "import numpy as np\n",
    "import pandas as pd\n",
    "import xarray as xr\n",
    "import glob\n",
    "from ipywidgets import interact, fixed, widgets\n",
    "import seaborn as sns\n",
    "import matplotlib.pyplot as plt\n",
    "\n",
    "os.chdir('/project')\n",
    "\n",
    "from publication_results.models.mcmc import MCMC\n",
    "from publication_results.convergence.convergence import gelman_rubin"
   ]
  },
  {
   "attachments": {},
   "cell_type": "markdown",
   "metadata": {},
   "source": [
    "## Load the results from the MCMC runs\n",
    "Load in the results stored in the netcdf files."
   ]
  },
  {
   "cell_type": "code",
   "execution_count": null,
   "metadata": {},
   "outputs": [],
   "source": [
    "models = ['linear'] #,'bnn'\n",
    "data = ['Sunspot', 'Abalone', 'Iris', 'Ionosphere']\n",
    "results_dir = os.path.join('publication_results','results')\n",
    "\n",
    "results = {mm: {dd: None for dd in data} for mm in models}\n",
    "for this_model in models:\n",
    "    mod_results_dir = os.path.join(results_dir,'{}_model'.format(this_model))\n",
    "    for this_data in data:\n",
    "        results_files = glob.glob(os.path.join(mod_results_dir,'mcmc_{}_*.nc'.format(this_data)))\n",
    "        print('Found {} results files for {} model on {} data'.format(len(results_files),this_model,this_data))\n",
    "        tmp_data = xr.open_mfdataset(results_files, combine='nested',concat_dim='chain')\n",
    "        # re-ID the chains\n",
    "        tmp_data.coords['chain'] = np.arange(len(results_files))\n",
    "        results[this_model][this_data] = tmp_data"
   ]
  },
  {
   "cell_type": "code",
   "execution_count": null,
   "metadata": {},
   "outputs": [],
   "source": [
    "# load the data\n",
    "x_train = {}\n",
    "y_train = {}\n",
    "x_test = {}\n",
    "y_test = {}\n",
    "\n",
    "for this_data in data:\n",
    "    train_data   = np.loadtxt(\"data/{}/train.txt\".format(this_data))\n",
    "    test_data    = np.loadtxt(\"data/{}/test.txt\".format(this_data))\n",
    "\n",
    "    x_train[this_data] = train_data[:,:-1]\n",
    "    y_train[this_data] = train_data[:,-1]\n",
    "    x_test[this_data] = test_data[:,:-1]\n",
    "    y_test[this_data] = test_data[:,-1]\n",
    "\n",
    "# little lookup table\n",
    "data_case = {'Sunspot':'regression','Abalone':'regression','Iris':'classification','Ionosphere':'classification'}"
   ]
  },
  {
   "attachments": {},
   "cell_type": "markdown",
   "metadata": {},
   "source": [
    "## Evaluate the model performance\n",
    "Calculate the model performance metrics for the MCMC samples."
   ]
  },
  {
   "cell_type": "code",
   "execution_count": null,
   "metadata": {},
   "outputs": [],
   "source": [
    "results_table = []# pd.DataFrame(columns=['train','test','model','data'])\n",
    "for this_model in models:\n",
    "    for this_data in data:\n",
    "        train_dim = results[this_model][this_data].coords['train_idx'].shape[0]\n",
    "        test_dim = results[this_model][this_data].coords['test_idx'].shape[0]\n",
    "        train_pred = results[this_model][this_data].train_pred.values.reshape((-1,train_dim))\n",
    "        test_pred = results[this_model][this_data].test_pred.values.reshape((-1,test_dim))\n",
    "        \n",
    "        # Print the train/test RMSE or accuracy in tabular format\n",
    "        if data_case[this_data] == 'regression':\n",
    "            train_perf = np.array([MCMC.rmse(train_pred[_,:], y_train[this_data]) for _ in np.arange(train_pred.shape[0])])\n",
    "            test_perf = np.array([MCMC.rmse(test_pred[_,:], y_test[this_data]) for _ in np.arange(test_pred.shape[0])])\n",
    "\n",
    "        elif data_case[this_data] == 'classification':\n",
    "            train_perf = np.array([MCMC.accuracy(train_pred[_,:], y_train[this_data]) for _ in np.arange(train_pred.shape[0])])\n",
    "            test_perf = np.array([MCMC.accuracy(test_pred[_,:], y_test[this_data]) for _ in np.arange(test_pred.shape[0])])\n",
    "\n",
    "        results_table.append(\n",
    "            {\n",
    "                'train_mean':train_perf.mean(),'test_mean':test_perf.mean(),\n",
    "                'train_std':train_perf.std(),'test_std':test_perf.std(),\n",
    "                'model':this_model,'data':this_data\n",
    "            }\n",
    "        )\n",
    "results_table = pd.DataFrame(results_table)\n",
    "results_table"
   ]
  },
  {
   "cell_type": "code",
   "execution_count": null,
   "metadata": {},
   "outputs": [],
   "source": [
    "# Run the convergence diagnostics\n",
    "model_r_hat = []\n",
    "for this_model in models:\n",
    "    r_hat_collect = []\n",
    "    for this_data in data:\n",
    "        print('Convergence diagnostics for {} model on {} data'.format(this_model,this_data))\n",
    "        # combine the parameters together into a single xarray\n",
    "        params = results[this_model][this_data].drop(['train_pred','test_pred','train_sim','test_sim','rmse'])\n",
    "        params = params.drop_vars(['train_idx','test_idx'])\n",
    "        \n",
    "        # combine all variables together along a new dimension\n",
    "        params = params.to_stacked_array(new_dim='param', sample_dims=['chain','samples'])\n",
    "        \n",
    "        # compute the Gelman-Rubin statistic\n",
    "        gr = gelman_rubin(params.values)\n",
    "\n",
    "        # store results as an additional variable in xarray\n",
    "\n",
    "        param_names = np.array([_[0] for _ in params.param.values])\n",
    "\n",
    "        results[this_model][this_data] = results[this_model][this_data].assign_coords(param=param_names)\n",
    "        results[this_model][this_data] = results[this_model][this_data].assign(rhat=((['param'],gr)))\n",
    "\n",
    "        r_hat_collect.append(gr)\n",
    "\n",
    "    r_hat_collect = pd.DataFrame(\n",
    "        np.concatenate(\n",
    "            r_hat_collect,\n",
    "            axis=0\n",
    "        ),\n",
    "        columns=['rhat']\n",
    "    )\n",
    "    r_hat_collect['model'] = this_model.title()\n",
    "\n",
    "    model_r_hat.append(r_hat_collect)\n",
    "\n",
    "model_r_hat = pd.concat(model_r_hat)"
   ]
  },
  {
   "cell_type": "code",
   "execution_count": null,
   "metadata": {},
   "outputs": [],
   "source": [
    "# plot a box and whisker plot with seaborn and the r_hat values\n",
    "sns.set_context('talk')\n",
    "fig, ax = plt.subplots(1,1,figsize=(8,6))\n",
    "sns.boxplot(x='model',y='rhat',data=model_r_hat,ax=ax)\n",
    "ax.set_ylabel('$\\hat{R} values$', labelpad=10)\n",
    "ax.set_xlabel('Model', labelpad=10)\n",
    "# y on log scale \n",
    "ax.set_yscale('log')\n",
    "plt.show()\n"
   ]
  },
  {
   "cell_type": "code",
   "execution_count": null,
   "metadata": {},
   "outputs": [],
   "source": [
    "\n",
    "results[this_model][this_data]"
   ]
  },
  {
   "cell_type": "code",
   "execution_count": null,
   "metadata": {},
   "outputs": [],
   "source": [
    "# Now plot posterior distribution and trace plot for selected parameters\n",
    "\n",
    "def plot_posterior(this_model, this_data, this_param, chain=0):\n",
    "    fig, ax = plt.subplots(1,2,figsize=(16,6))\n",
    "\n",
    "    plot_data = results[this_model][this_data][this_param].sel(chain=chain)\n",
    "\n",
    "    # plot the posterior distribution\n",
    "    sns.kdeplot(plot_data.values, ax=ax[0])\n",
    "    ax[0].set_xlabel(this_param, labelpad=10)\n",
    "    ax[0].set_ylabel('Density', labelpad=10)\n",
    "    ax[0].set_title('Posterior distribution')\n",
    "\n",
    "    # plot the trace plot\n",
    "    sns.lineplot(x=plot_data.coords['samples'].values,y=plot_data.values,ax=ax[1])\n",
    "    ax[1].set_xlabel('Samples', labelpad=10)\n",
    "    ax[1].set_ylabel(this_param, labelpad=10)\n",
    "    ax[1].set_title('Trace plot')\n",
    "\n",
    "    fig.tight_layout()\n",
    "    plt.show()\n",
    "\n",
    "# Now use interact to plot for given model, data, param\n",
    "\n",
    "interact(\n",
    "    plot_posterior, \n",
    "    this_model=widgets.Dropdown(options=models, value=models[0]),\n",
    "    this_data=widgets.Dropdown(options=data, value=data[0]),\n",
    "    this_param=widgets.SelectionSlider(options=results[models[0]][data[0]].coords['param'].values, value=results[models[0]][data[0]].coords['param'].values[0]),\n",
    "    chain=widgets.IntSlider(min=0,max=results[models[0]][data[0]].coords['chain'].shape[0]-1,step=1,value=0)\n",
    ")"
   ]
  },
  {
   "cell_type": "code",
   "execution_count": null,
   "metadata": {},
   "outputs": [],
   "source": []
  }
 ],
 "metadata": {
  "kernelspec": {
   "display_name": "Python 3.9.12 ('base')",
   "language": "python",
   "name": "python3"
  },
  "language_info": {
   "codemirror_mode": {
    "name": "ipython",
    "version": 3
   },
   "file_extension": ".py",
   "mimetype": "text/x-python",
   "name": "python",
   "nbconvert_exporter": "python",
   "pygments_lexer": "ipython3",
   "version": "3.9.16"
  },
  "orig_nbformat": 4,
  "vscode": {
   "interpreter": {
    "hash": "87fbea7b3721842a93ed4da8a1ac4b18f42b1eaaedefc3a2702202c09bf233e1"
   }
  }
 },
 "nbformat": 4,
 "nbformat_minor": 2
}
