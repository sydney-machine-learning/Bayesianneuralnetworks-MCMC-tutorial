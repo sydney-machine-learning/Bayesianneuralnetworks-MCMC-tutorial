{
 "cells": [
  {
   "attachments": {},
   "cell_type": "markdown",
   "metadata": {},
   "source": [
    "# MCMC tutorial publication results and plotting\n",
    "Part of the Bayesian neural networks via MCMC: a Python-based tutorial\n",
    "\n",
    "This notebook contains the code used to generate the results and plots for the paper."
   ]
  },
  {
   "cell_type": "markdown",
   "metadata": {},
   "source": [
    "### Imports"
   ]
  },
  {
   "cell_type": "code",
   "execution_count": 1,
   "metadata": {},
   "outputs": [],
   "source": [
    "%load_ext autoreload\n",
    "%autoreload 2"
   ]
  },
  {
   "cell_type": "code",
   "execution_count": 2,
   "metadata": {},
   "outputs": [],
   "source": [
    "import os\n",
    "import numpy as np\n",
    "import pandas as pd\n",
    "import xarray as xr\n",
    "import glob, warnings\n",
    "from ipywidgets import interact, fixed, widgets\n",
    "import seaborn as sns\n",
    "import matplotlib.pyplot as plt\n",
    "\n",
    "os.chdir('/project')\n",
    "\n",
    "from publication_results.models.mcmc import MCMC\n",
    "from publication_results.convergence.convergence import gelman_rubin"
   ]
  },
  {
   "attachments": {},
   "cell_type": "markdown",
   "metadata": {},
   "source": [
    "## Load the results from the MCMC runs\n",
    "Load in the results stored in the netcdf files."
   ]
  },
  {
   "cell_type": "code",
   "execution_count": 3,
   "metadata": {},
   "outputs": [
    {
     "name": "stdout",
     "output_type": "stream",
     "text": [
      "Found 5 results files for linear model on Sunspot data\n",
      "Found 5 results files for linear model on Abalone data\n",
      "Found 5 results files for linear model on Iris data\n",
      "Found 5 results files for linear model on Ionosphere data\n"
     ]
    }
   ],
   "source": [
    "models = ['linear'] #,'bnn'\n",
    "data = ['Sunspot', 'Abalone', 'Iris', 'Ionosphere']\n",
    "results_dir = os.path.join('publication_results','results')\n",
    "\n",
    "results = {mm: {dd: None for dd in data} for mm in models}\n",
    "for this_model in models:\n",
    "    mod_results_dir = os.path.join(results_dir,'{}_model'.format(this_model))\n",
    "    for this_data in data:\n",
    "        results_files = glob.glob(os.path.join(mod_results_dir,'mcmc_{}_*.nc'.format(this_data)))\n",
    "        print('Found {} results files for {} model on {} data'.format(len(results_files),this_model,this_data))\n",
    "        tmp_data = xr.open_mfdataset(results_files, combine='nested',concat_dim='chain')\n",
    "        # re-ID the chains\n",
    "        tmp_data.coords['chain'] = np.arange(len(results_files))\n",
    "        results[this_model][this_data] = tmp_data"
   ]
  },
  {
   "cell_type": "code",
   "execution_count": 4,
   "metadata": {},
   "outputs": [],
   "source": [
    "# load the data\n",
    "x_train = {}\n",
    "y_train = {}\n",
    "x_test = {}\n",
    "y_test = {}\n",
    "\n",
    "for this_data in data:\n",
    "    train_data   = np.loadtxt(\"data/{}/train.txt\".format(this_data))\n",
    "    test_data    = np.loadtxt(\"data/{}/test.txt\".format(this_data))\n",
    "\n",
    "    x_train[this_data] = train_data[:,:-1]\n",
    "    y_train[this_data] = train_data[:,-1]\n",
    "    x_test[this_data] = test_data[:,:-1]\n",
    "    y_test[this_data] = test_data[:,-1]\n",
    "\n",
    "# little lookup table\n",
    "data_case = {'Sunspot':'regression','Abalone':'regression','Iris':'classification','Ionosphere':'classification'}"
   ]
  },
  {
   "attachments": {},
   "cell_type": "markdown",
   "metadata": {},
   "source": [
    "## Evaluate the model performance\n",
    "Calculate the model performance metrics for the MCMC samples."
   ]
  },
  {
   "cell_type": "code",
   "execution_count": 5,
   "metadata": {},
   "outputs": [
    {
     "data": {
      "text/html": [
       "<div>\n",
       "<style scoped>\n",
       "    .dataframe tbody tr th:only-of-type {\n",
       "        vertical-align: middle;\n",
       "    }\n",
       "\n",
       "    .dataframe tbody tr th {\n",
       "        vertical-align: top;\n",
       "    }\n",
       "\n",
       "    .dataframe thead th {\n",
       "        text-align: right;\n",
       "    }\n",
       "</style>\n",
       "<table border=\"1\" class=\"dataframe\">\n",
       "  <thead>\n",
       "    <tr style=\"text-align: right;\">\n",
       "      <th></th>\n",
       "      <th>train_mean</th>\n",
       "      <th>test_mean</th>\n",
       "      <th>train_std</th>\n",
       "      <th>test_std</th>\n",
       "      <th>model</th>\n",
       "      <th>data</th>\n",
       "    </tr>\n",
       "  </thead>\n",
       "  <tbody>\n",
       "    <tr>\n",
       "      <th>0</th>\n",
       "      <td>0.025217</td>\n",
       "      <td>0.021724</td>\n",
       "      <td>0.013317</td>\n",
       "      <td>0.011669</td>\n",
       "      <td>linear</td>\n",
       "      <td>Sunspot</td>\n",
       "    </tr>\n",
       "    <tr>\n",
       "      <th>1</th>\n",
       "      <td>0.085271</td>\n",
       "      <td>0.085565</td>\n",
       "      <td>0.007065</td>\n",
       "      <td>0.006940</td>\n",
       "      <td>linear</td>\n",
       "      <td>Abalone</td>\n",
       "    </tr>\n",
       "    <tr>\n",
       "      <th>2</th>\n",
       "      <td>89.478438</td>\n",
       "      <td>84.196430</td>\n",
       "      <td>3.524346</td>\n",
       "      <td>6.132746</td>\n",
       "      <td>linear</td>\n",
       "      <td>Iris</td>\n",
       "    </tr>\n",
       "    <tr>\n",
       "      <th>3</th>\n",
       "      <td>89.059739</td>\n",
       "      <td>85.316038</td>\n",
       "      <td>1.335095</td>\n",
       "      <td>2.389743</td>\n",
       "      <td>linear</td>\n",
       "      <td>Ionosphere</td>\n",
       "    </tr>\n",
       "  </tbody>\n",
       "</table>\n",
       "</div>"
      ],
      "text/plain": [
       "   train_mean  test_mean  train_std  test_std   model        data\n",
       "0    0.025217   0.021724   0.013317  0.011669  linear     Sunspot\n",
       "1    0.085271   0.085565   0.007065  0.006940  linear     Abalone\n",
       "2   89.478438  84.196430   3.524346  6.132746  linear        Iris\n",
       "3   89.059739  85.316038   1.335095  2.389743  linear  Ionosphere"
      ]
     },
     "execution_count": 5,
     "metadata": {},
     "output_type": "execute_result"
    }
   ],
   "source": [
    "results_table = []# pd.DataFrame(columns=['train','test','model','data'])\n",
    "for this_model in models:\n",
    "    for this_data in data:\n",
    "        train_dim = results[this_model][this_data].coords['train_idx'].shape[0]\n",
    "        test_dim = results[this_model][this_data].coords['test_idx'].shape[0]\n",
    "        train_pred = results[this_model][this_data].train_pred.values.reshape((-1,train_dim))\n",
    "        test_pred = results[this_model][this_data].test_pred.values.reshape((-1,test_dim))\n",
    "        \n",
    "        # Print the train/test RMSE or accuracy in tabular format\n",
    "        if data_case[this_data] == 'regression':\n",
    "            train_perf = np.array([MCMC.rmse(train_pred[_,:], y_train[this_data]) for _ in np.arange(train_pred.shape[0])])\n",
    "            test_perf = np.array([MCMC.rmse(test_pred[_,:], y_test[this_data]) for _ in np.arange(test_pred.shape[0])])\n",
    "\n",
    "        elif data_case[this_data] == 'classification':\n",
    "            train_perf = np.array([MCMC.accuracy(train_pred[_,:], y_train[this_data]) for _ in np.arange(train_pred.shape[0])])\n",
    "            test_perf = np.array([MCMC.accuracy(test_pred[_,:], y_test[this_data]) for _ in np.arange(test_pred.shape[0])])\n",
    "\n",
    "        results_table.append(\n",
    "            {\n",
    "                'train_mean':train_perf.mean(),'test_mean':test_perf.mean(),\n",
    "                'train_std':train_perf.std(),'test_std':test_perf.std(),\n",
    "                'model':this_model,'data':this_data\n",
    "            }\n",
    "        )\n",
    "results_table = pd.DataFrame(results_table)\n",
    "results_table"
   ]
  },
  {
   "cell_type": "code",
   "execution_count": 7,
   "metadata": {},
   "outputs": [
    {
     "name": "stdout",
     "output_type": "stream",
     "text": [
      "Convergence diagnostics for linear model on Sunspot data\n",
      "Convergence diagnostics for linear model on Abalone data\n",
      "Convergence diagnostics for linear model on Iris data\n",
      "Convergence diagnostics for linear model on Ionosphere data\n"
     ]
    }
   ],
   "source": [
    "# Run the convergence diagnostics\n",
    "model_r_hat = []\n",
    "for this_model in models:\n",
    "    r_hat_collect = []\n",
    "    for this_data in data:\n",
    "        print('Convergence diagnostics for {} model on {} data'.format(this_model,this_data))\n",
    "        # combine the parameters together into a single xarray\n",
    "        params = results[this_model][this_data].drop(['train_pred','test_pred','train_sim','test_sim'])\n",
    "        params = params.drop_vars(['train_idx','test_idx'])\n",
    "        \n",
    "        # combine all variables together along a new dimension\n",
    "        params = params.to_stacked_array(new_dim='param', sample_dims=['chain','samples'])\n",
    "        \n",
    "        # compute the Gelman-Rubin statistic\n",
    "        gr = gelman_rubin(params.values)\n",
    "\n",
    "        # store results as an additional variable in xarray\n",
    "\n",
    "        param_names = np.array([_[0] for _ in params.param.values])\n",
    "\n",
    "        results[this_model][this_data] = results[this_model][this_data].assign_coords(param=param_names)\n",
    "        results[this_model][this_data] = results[this_model][this_data].assign(rhat=((['param'],gr)))\n",
    "\n",
    "        r_hat_collect.append(gr)\n",
    "\n",
    "    r_hat_collect = pd.DataFrame(\n",
    "        np.concatenate(\n",
    "            r_hat_collect,\n",
    "            axis=0\n",
    "        ),\n",
    "        columns=['rhat']\n",
    "    )\n",
    "    r_hat_collect['model'] = this_model.title()\n",
    "\n",
    "    model_r_hat.append(r_hat_collect)\n",
    "\n",
    "model_r_hat = pd.concat(model_r_hat)"
   ]
  },
  {
   "cell_type": "code",
   "execution_count": 8,
   "metadata": {},
   "outputs": [
    {
     "data": {
      "image/png": "[encoded data removed]",
      "text/plain": [
       "<Figure size 800x600 with 1 Axes>"
      ]
     },
     "metadata": {},
     "output_type": "display_data"
    }
   ],
   "source": [
    "# plot a box and whisker plot with seaborn and the r_hat values\n",
    "sns.set_context('talk')\n",
    "fig, ax = plt.subplots(1,1,figsize=(8,6))\n",
    "sns.boxplot(x='model',y='rhat',data=model_r_hat,ax=ax)\n",
    "ax.set_ylabel('$\\hat{R} values$', labelpad=10)\n",
    "ax.set_xlabel('Model', labelpad=10)\n",
    "# y on log scale \n",
    "ax.set_yscale('log')\n",
    "plt.show()\n"
   ]
  },
  {
   "cell_type": "code",
   "execution_count": 10,
   "metadata": {},
   "outputs": [
    {
     "data": {
      "application/vnd.jupyter.widget-view+json": {
       "model_id": "3ec7d289bd494b76a01eadcdc573ba8b",
       "version_major": 2,
       "version_minor": 0
      },
      "text/plain": [
       "interactive(children=(Dropdown(description='this_model', options=('linear',), value='linear'), Dropdown(descri…"
      ]
     },
     "metadata": {},
     "output_type": "display_data"
    }
   ],
   "source": [
    "# Now plot posterior distribution and trace plot for selected parameters\n",
    "def plot_posterior(this_model, this_data, this_param, chain=0):\n",
    "    '''\n",
    "    Plot the posterior as a histogram and then the traceplot\n",
    "    '''\n",
    "    plot_data = results[this_model][this_data][this_param].sel(chain=chain)\n",
    "    fig, ax = plt.subplots(1,1,figsize=(6,4))\n",
    "    # plot the posterior distribution\n",
    "    sns.histplot(plot_data.values, ax=ax, bins=20)\n",
    "    ax.set_xlabel(this_param, labelpad=10)\n",
    "    ax.set_ylabel('Frequency', labelpad=10)\n",
    "    ax.set_title('Posterior distribution', pad=10)\n",
    "    fig.tight_layout()\n",
    "    plt.show()\n",
    "\n",
    "    # plot the trace plot\n",
    "    fig1, ax1 = plt.subplots(1,1,figsize=(6,4))\n",
    "    sns.lineplot(x=plot_data.coords['samples'].values,y=plot_data.values,ax=ax1)\n",
    "    ax1.set_xlabel('Samples', labelpad=10)\n",
    "    ax1.set_ylabel(this_param, labelpad=10)\n",
    "    ax1.set_title('Trace plot', pad=10)\n",
    "\n",
    "    fig1.tight_layout()\n",
    "    plt.show()\n",
    "\n",
    "# Now use interact to plot for given model, data, param\n",
    "warnings.simplefilter(action='ignore', category=FutureWarning)\n",
    "interact(\n",
    "    plot_posterior, \n",
    "    this_model=widgets.Dropdown(options=models, value=models[0]),\n",
    "    this_data=widgets.Dropdown(options=data, value=data[0]),\n",
    "    this_param=widgets.SelectionSlider(options=results[models[0]][data[0]].coords['param'].values, value=results[models[0]][data[0]].coords['param'].values[0]),\n",
    "    chain=widgets.IntSlider(min=0,max=results[models[0]][data[0]].coords['chain'].shape[0]-1,step=1,value=0)\n",
    ")\n",
    "None"
   ]
  },
  {
   "cell_type": "code",
   "execution_count": null,
   "metadata": {},
   "outputs": [],
   "source": []
  },
  {
   "cell_type": "code",
   "execution_count": null,
   "metadata": {},
   "outputs": [],
   "source": []
  }
 ],
 "metadata": {
  "kernelspec": {
   "display_name": "Python 3.9.12 ('base')",
   "language": "python",
   "name": "python3"
  },
  "language_info": {
   "codemirror_mode": {
    "name": "ipython",
    "version": 3
   },
   "file_extension": ".py",
   "mimetype": "text/x-python",
   "name": "python",
   "nbconvert_exporter": "python",
   "pygments_lexer": "ipython3",
   "version": "3.9.16"
  },
  "orig_nbformat": 4,
  "vscode": {
   "interpreter": {
    "hash": "87fbea7b3721842a93ed4da8a1ac4b18f42b1eaaedefc3a2702202c09bf233e1"
   }
  }
 },
 "nbformat": 4,
 "nbformat_minor": 2
}
